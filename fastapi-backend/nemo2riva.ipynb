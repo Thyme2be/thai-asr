{
 "cells": [
  {
   "cell_type": "markdown",
   "id": "df938149",
   "metadata": {},
   "source": [
    "# Test .nemo model"
   ]
  },
  {
   "cell_type": "code",
   "execution_count": null,
   "id": "dd204ad2",
   "metadata": {},
   "outputs": [],
   "source": [
    "import nemo.collections.asr as nemo_asr\n",
    "\n",
    "asr_model = nemo_asr.models.EncDecCTCModel.restore_from(\"./riva_quickstart_v2.19.0/converted_models/conformer_th.nemo\")\n",
    "transcription = asr_model.transcribe([\"./app/audio/Thai-sample-AOC_0.26-1.15.wav\"])\n",
    "print(transcription[0].text)"
   ]
  },
  {
   "cell_type": "markdown",
   "id": "fe57ad4b",
   "metadata": {},
   "source": [
    "# Create riva_quickstart folder and install dependencies"
   ]
  },
  {
   "cell_type": "code",
   "execution_count": null,
   "id": "b1744fed",
   "metadata": {},
   "outputs": [],
   "source": [
    "!pip install nvidia-pyindex\n",
    "!ngc registry resource download-version \"nvidia/riva/riva_quickstart:2.19.0\"\n",
    "!pip install nemo2riva\n",
    "!pip install protobuf==3.20.0"
   ]
  },
  {
   "cell_type": "code",
   "execution_count": 1,
   "id": "401af90b",
   "metadata": {},
   "outputs": [
    {
     "name": "stdout",
     "output_type": "stream",
     "text": [
      "ONNX Runtime version: 1.19.0\n"
     ]
    }
   ],
   "source": [
    "import onnxruntime as ort\n",
    "print(\"ONNX Runtime version:\", ort.__version__)"
   ]
  },
  {
   "cell_type": "code",
   "execution_count": 2,
   "id": "28d36259",
   "metadata": {},
   "outputs": [
    {
     "name": "stdout",
     "output_type": "stream",
     "text": [
      "[NeMo I 2025-07-28 17:22:02 nemo_logging:393] Logging level set to 20\n",
      "[NeMo I 2025-07-28 17:22:02 nemo_logging:393] Restoring NeMo model from './riva_quickstart_v2.19.0/converted_models/conformer_th.nemo'\n",
      "INFO: GPU available: True (cuda), used: True\n",
      "INFO: TPU available: False, using: 0 TPU cores\n",
      "INFO: HPU available: False, using: 0 HPUs\n",
      "INFO: `Trainer(limit_train_batches=1.0)` was configured so 100% of the batches per epoch will be used..\n",
      "INFO: `Trainer(limit_val_batches=1.0)` was configured so 100% of the batches will be used..\n",
      "INFO: `Trainer(limit_test_batches=1.0)` was configured so 100% of the batches will be used..\n",
      "INFO: `Trainer(limit_predict_batches=1.0)` was configured so 100% of the batches will be used..\n",
      "INFO: `Trainer(val_check_interval=1.0)` was configured so validation will run at the end of the training epoch..\n",
      "[NeMo I 2025-07-28 17:22:03 nemo_logging:393] Tokenizer SentencePieceTokenizer initialized with 3000 tokens\n",
      "[NeMo W 2025-07-28 17:22:03 nemo_logging:405] If you intend to do training or fine-tuning, please call the ModelPT.setup_training_data() method and provide a valid configuration file to setup the train data loader.\n",
      "    Train config : \n",
      "    manifest_filepath: train.json\n",
      "    sample_rate: 16000\n",
      "    batch_size: 32\n",
      "    shuffle: true\n",
      "    num_workers: 15\n",
      "    pin_memory: true\n",
      "    max_duration: 20.0\n",
      "    min_duration: 0.1\n",
      "    shuffle_n: 2048\n",
      "    bucketing_strategy: synced_randomized\n",
      "    bucketing_batch_size: null\n",
      "    channel_selector: 0\n",
      "    \n",
      "[NeMo W 2025-07-28 17:22:03 nemo_logging:405] If you intend to do validation, please call the ModelPT.setup_validation_data() or ModelPT.setup_multiple_validation_data() method and provide a valid configuration file to setup the validation data loader(s). \n",
      "    Validation config : \n",
      "    manifest_filepath: dev.json\n",
      "    sample_rate: 16000\n",
      "    batch_size: 16\n",
      "    shuffle: false\n",
      "    use_start_end_token: false\n",
      "    num_workers: 15\n",
      "    pin_memory: true\n",
      "    \n",
      "[NeMo W 2025-07-28 17:22:03 nemo_logging:405] Please call the ModelPT.setup_test_data() or ModelPT.setup_multiple_test_data() method and provide a valid configuration file to setup the test data loader(s).\n",
      "    Test config : \n",
      "    manifest_filepath: null\n",
      "    sample_rate: 16000\n",
      "    batch_size: 16\n",
      "    shuffle: false\n",
      "    num_workers: 8\n",
      "    pin_memory: true\n",
      "    use_start_end_token: false\n",
      "    \n",
      "[NeMo I 2025-07-28 17:22:03 nemo_logging:393] PADDING: 0\n",
      "[NeMo I 2025-07-28 17:22:05 nemo_logging:393] Model EncDecCTCModelBPE was successfully restored from /home/trin/projects/thai-asr/fastapi-backend/riva_quickstart_v2.19.0/converted_models/conformer_th.nemo.\n",
      "[NeMo I 2025-07-28 17:22:05 nemo_logging:393] Loaded schema file /home/trin/anaconda3/envs/thai-asr/lib/python3.12/site-packages/nemo2riva/validation_schemas/tts-exported-hifiganmodel.yaml for nemo.collections.tts.models.HifiGanModel\n",
      "[NeMo I 2025-07-28 17:22:05 nemo_logging:393] Loaded schema file /home/trin/anaconda3/envs/thai-asr/lib/python3.12/site-packages/nemo2riva/validation_schemas/nlp-pc-exported-bert.yaml for nemo.collections.nlp.models.PunctuationCapitalizationModel\n",
      "[NeMo I 2025-07-28 17:22:05 nemo_logging:393] Loaded schema file /home/trin/anaconda3/envs/thai-asr/lib/python3.12/site-packages/nemo2riva/validation_schemas/asr-scr-exported-encdecclsmodel.yaml for nemo.collections.asr.models.classification_models.EncDecClassificationModel\n",
      "[NeMo I 2025-07-28 17:22:05 nemo_logging:393] Loaded schema file /home/trin/anaconda3/envs/thai-asr/lib/python3.12/site-packages/nemo2riva/validation_schemas/tts-exported-radttsmodel.yaml for nemo.collections.tts.models.RadTTSModel\n",
      "[NeMo I 2025-07-28 17:22:05 nemo_logging:393] Loaded schema file /home/trin/anaconda3/envs/thai-asr/lib/python3.12/site-packages/nemo2riva/validation_schemas/nlp-mt-exported-encdecmtmodel.yaml for nemo.collections.nlp.models.MTEncDecModel\n",
      "[NeMo I 2025-07-28 17:22:05 nemo_logging:393] Loaded schema file /home/trin/anaconda3/envs/thai-asr/lib/python3.12/site-packages/nemo2riva/validation_schemas/asr-stt-exported-encdecctcmodel.yaml for nemo.collections.asr.models.EncDecCTCModel\n",
      "[NeMo I 2025-07-28 17:22:05 nemo_logging:393] Loaded schema file /home/trin/anaconda3/envs/thai-asr/lib/python3.12/site-packages/nemo2riva/validation_schemas/nlp-tkc-exported-bert.yaml for nemo.collections.nlp.models.TokenClassificationModel\n",
      "[NeMo I 2025-07-28 17:22:05 nemo_logging:393] Loaded schema file /home/trin/anaconda3/envs/thai-asr/lib/python3.12/site-packages/nemo2riva/validation_schemas/tts-exported-fastpitchmodel.yaml for nemo.collections.tts.models.FastPitchModel\n",
      "[NeMo I 2025-07-28 17:22:05 nemo_logging:393] Loaded schema file /home/trin/anaconda3/envs/thai-asr/lib/python3.12/site-packages/nemo2riva/validation_schemas/asr-stt-exported-encdectcmodelbpe.yaml for nemo.collections.asr.models.EncDecCTCModelBPE\n",
      "[NeMo I 2025-07-28 17:22:05 nemo_logging:393] Loaded schema file /home/trin/anaconda3/envs/thai-asr/lib/python3.12/site-packages/nemo2riva/validation_schemas/nlp-tc-exported-bert.yaml for nemo.collections.nlp.models.TextClassificationModel\n",
      "[NeMo I 2025-07-28 17:22:05 nemo_logging:393] Loaded schema file /home/trin/anaconda3/envs/thai-asr/lib/python3.12/site-packages/nemo2riva/validation_schemas/nlp-qa-exported-bert.yaml for nemo.collections.nlp.models.QAModel\n",
      "[NeMo I 2025-07-28 17:22:05 nemo_logging:393] Loaded schema file /home/trin/anaconda3/envs/thai-asr/lib/python3.12/site-packages/nemo2riva/validation_schemas/nlp-isc-exported-bert.yaml for nemo.collections.nlp.models.IntentSlotClassificationModel\n",
      "[NeMo I 2025-07-28 17:22:05 nemo_logging:393] Loaded schema file /home/trin/anaconda3/envs/thai-asr/lib/python3.12/site-packages/nemo2riva/validation_schemas/nlp-mt-exported-megatronnmtmodel.yaml for nemo.collections.nlp.models.MegatronNMTModel\n",
      "[NeMo I 2025-07-28 17:22:05 nemo_logging:393] Found validation schema for nemo.collections.asr.models.EncDecCTCModelBPE at /home/trin/anaconda3/envs/thai-asr/lib/python3.12/site-packages/nemo2riva/validation_schemas/asr-stt-exported-encdectcmodelbpe.yaml\n",
      "[NeMo I 2025-07-28 17:22:05 nemo_logging:393] Checking installed NeMo version ... 2.4.0 OK (>=1.1)\n",
      "[NeMo I 2025-07-28 17:22:05 nemo_logging:393] Found model at ./model_weights.ckpt\n",
      "INFO: Checking Nemo version for ConformerEncoder ...\n",
      "[NeMo I 2025-07-28 17:22:05 nemo_logging:393] Checking installed NeMo version ... 2.4.0 OK (>=1.7.0rc0)\n",
      "[NeMo I 2025-07-28 17:22:05 nemo_logging:393] Retrieved artifacts: dict_keys(['14955f8bef6b4eb2b33b7485f0d89ece_vocab.txt', '5bbaf1bc19ca4f5f883bedaf6992cc34_tokenizer.vocab', 'd2ebd06897a64e5098ef7b3d166de19f_tokenizer.model', 'model_config.yaml'])\n",
      "[NeMo I 2025-07-28 17:22:05 nemo_logging:393] Exporting model EncDecCTCModelBPE with config=ExportConfig(export_subnet=None, export_format='ONNX', export_file='model_graph.onnx', encryption=None, autocast=True, max_dim=1000, export_args={})\n",
      "[NeMo I 2025-07-28 17:22:17 nemo_logging:393] Successfully exported EncDecCTCModelBPE to /tmp/tmpzvcxsqu3/model_graph.onnx\n",
      "[W] colored module is not installed, will not use colors when logging. To enable colors, please install the colored module: python3 -m pip install colored\n",
      "[W] Inference failed. You may want to try enabling partitioning to see better results. Note: Error was:\n",
      "[ONNXRuntimeError] : 2 : INVALID_ARGUMENT : Failed to load model with error: /onnxruntime_src/onnxruntime/core/graph/model.cc:180 onnxruntime::Model::Model(onnx::ModelProto&&, const onnxruntime::PathString&, const onnxruntime::IOnnxRuntimeOpSchemaRegistryList*, const onnxruntime::logging::Logger&, const onnxruntime::ModelOptions&) Unsupported model IR version: 11, max supported IR version: 10\n",
      "[NeMo I 2025-07-28 17:22:20 nemo_logging:393] Saving to ./riva_quickstart_v2.19.0/converted_models/conformer_th.riva\n",
      "[NeMo I 2025-07-28 17:22:27 nemo_logging:393] Model saved to ./riva_quickstart_v2.19.0/converted_models/conformer_th.riva\n"
     ]
    }
   ],
   "source": [
    "riva_file_path = \"./riva_quickstart_v2.19.0/converted_models/conformer_th.riva\"\n",
    "nemo_file_path = './riva_quickstart_v2.19.0/converted_models/conformer_th.nemo'\n",
    "!nemo2riva --out {riva_file_path} --key=nemotoriva {nemo_file_path} --max-dim 1000"
   ]
  }
 ],
 "metadata": {
  "kernelspec": {
   "display_name": "thai-asr",
   "language": "python",
   "name": "python3"
  },
  "language_info": {
   "codemirror_mode": {
    "name": "ipython",
    "version": 3
   },
   "file_extension": ".py",
   "mimetype": "text/x-python",
   "name": "python",
   "nbconvert_exporter": "python",
   "pygments_lexer": "ipython3",
   "version": "3.12.11"
  }
 },
 "nbformat": 4,
 "nbformat_minor": 5
}

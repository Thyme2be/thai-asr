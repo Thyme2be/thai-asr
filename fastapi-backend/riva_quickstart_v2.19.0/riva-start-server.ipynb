{
 "cells": [
  {
   "cell_type": "code",
   "execution_count": 14,
   "id": "2541f579",
   "metadata": {},
   "outputs": [],
   "source": [
    "RIVA_DIR = \"/home/trin/projects/thai-asr/fastapi-backend/riva_quickstart_v2.19.0\""
   ]
  },
  {
   "cell_type": "code",
   "execution_count": 15,
   "id": "ba8cccba-b0c0-4e32-8653-9d68cc402d22",
   "metadata": {},
   "outputs": [],
   "source": [
    "! cd $RIVA_DIR && chmod +x ./riva_init.sh && chmod +x ./riva_start.sh && chmod +x ./riva_stop.sh"
   ]
  },
  {
   "cell_type": "code",
   "execution_count": 16,
   "id": "c859db7a-77c5-431f-aa85-8ae3d37974c7",
   "metadata": {},
   "outputs": [
    {
     "name": "stdout",
     "output_type": "stream",
     "text": [
      "Logging into NGC docker registry if necessary...\n",
      "Pulling required docker images if necessary...\n",
      "Note: This may take some time, depending on the speed of your Internet connection.\n",
      "> Pulling Riva Speech Server images.\n",
      "  > Image nvcr.io/nvidia/riva/riva-speech:2.19.0 exists. Skipping.\n",
      "\n",
      "+ [[ non-tegra != \\t\\e\\g\\r\\a ]]\n",
      "+ echo 'Converting RMIRs at /home/trin/projects/thai-asr/fastapi-backend/riva_quickstart_v2.19.0/converted_models/rmir to Riva Model repository.'\n",
      "Converting RMIRs at /home/trin/projects/thai-asr/fastapi-backend/riva_quickstart_v2.19.0/converted_models/rmir to Riva Model repository.\n",
      "+ docker run --init -it --rm --gpus '\"device=0\"' -v /home/trin/projects/thai-asr/fastapi-backend/riva_quickstart_v2.19.0/converted_models:/data -e MODEL_DEPLOY_KEY=nemotoriva --name riva-service-maker nvcr.io/nvidia/riva/riva-speech:2.19.0 deploy_all_models /data/rmir /data/models\n",
      "\n",
      "==========================\n",
      "=== Riva Speech Skills ===\n",
      "==========================\n",
      "\n",
      "NVIDIA Release 25.02 (build 151443007)\n",
      "\n",
      "Copyright (c) 2018-2023, NVIDIA CORPORATION & AFFILIATES. All rights reserved.\n",
      "\n",
      "Various files include modifications (c) NVIDIA CORPORATION & AFFILIATES.  All rights reserved.\n",
      "\n",
      "This container image and its contents are governed by the NVIDIA Deep Learning Container License.\n",
      "By pulling and using the container, you accept the terms and conditions of this license:\n",
      "https://developer.nvidia.com/ngc/nvidia-deep-learning-container-license\n",
      "\n",
      "[TensorRT-LLM] TensorRT-LLM version: 0.17.0\n",
      "2025-07-28 17:36:06,054 [INFO] Writing Riva model repository to '/data/models'...\n",
      "2025-07-28 17:36:06,054 [INFO] The riva model repo target directory is /data/models\n",
      "2025-07-28 17:36:09,752 [INFO] Using tensorrt with fp32\n",
      "2025-07-28 17:36:09,752 [WARNING] /data/models/riva-trt-conformer-th-offline-am-streaming-offline already exists, skipping deployment.  To force deployment rerun with -f or remove the /data/models/riva-trt-conformer-th-offline-am-streaming-offline\n",
      "2025-07-28 17:36:09,752 [WARNING] /data/models/conformer-th-offline-asr-bls-ensemble already exists, skipping deployment.  To force deployment rerun with -f or remove the /data/models/conformer-th-offline-asr-bls-ensemble\n",
      "+ '[' 0 -ne 0 ']'\n",
      "+ [[ non-tegra == \\t\\e\\g\\r\\a ]]\n",
      "+ echo\n",
      "\n",
      "+ echo 'Riva initialization complete. Run ./riva_start.sh to launch services.'\n",
      "Riva initialization complete. Run ./riva_start.sh to launch services.\n"
     ]
    }
   ],
   "source": [
    "! cd $RIVA_DIR && ./riva_init.sh config.sh"
   ]
  },
  {
   "cell_type": "code",
   "execution_count": 17,
   "id": "28871e46-154e-4aa7-add8-b0dc93970681",
   "metadata": {},
   "outputs": [
    {
     "name": "stdout",
     "output_type": "stream",
     "text": [
      "Starting Riva Speech Services. This may take several minutes depending on the number of models deployed.\n",
      "Waiting for Riva server to load all models...retrying in 10 seconds\n",
      "Riva server is ready...\n"
     ]
    }
   ],
   "source": [
    "! cd $RIVA_DIR && ./riva_start.sh config.sh"
   ]
  },
  {
   "cell_type": "markdown",
   "id": "940d3636",
   "metadata": {},
   "source": [
    "# Run Inference"
   ]
  },
  {
   "cell_type": "code",
   "execution_count": 3,
   "id": "4c1ebd28",
   "metadata": {},
   "outputs": [
    {
     "name": "stdout",
     "output_type": "stream",
     "text": [
      "Looking in indexes: https://pypi.org/simple, https://pypi.ngc.nvidia.com\n",
      "Requirement already satisfied: nvidia-riva-client in /home/trin/anaconda3/envs/thai-asr/lib/python3.12/site-packages (2.21.1)\n",
      "Requirement already satisfied: setuptools==78.1.1 in /home/trin/anaconda3/envs/thai-asr/lib/python3.12/site-packages (from nvidia-riva-client) (78.1.1)\n",
      "Requirement already satisfied: grpcio==1.67.1 in /home/trin/anaconda3/envs/thai-asr/lib/python3.12/site-packages (from nvidia-riva-client) (1.67.1)\n",
      "Requirement already satisfied: grpcio-tools==1.67.1 in /home/trin/anaconda3/envs/thai-asr/lib/python3.12/site-packages (from nvidia-riva-client) (1.67.1)\n",
      "Requirement already satisfied: protobuf<6.0dev,>=5.26.1 in /home/trin/anaconda3/envs/thai-asr/lib/python3.12/site-packages (from grpcio-tools==1.67.1->nvidia-riva-client) (5.29.5)\n"
     ]
    }
   ],
   "source": [
    "! pip install nvidia-riva-client"
   ]
  },
  {
   "cell_type": "code",
   "execution_count": 20,
   "id": "9aa6455a",
   "metadata": {},
   "outputs": [
    {
     "name": "stdout",
     "output_type": "stream",
     "text": [
      "results {\n",
      "  alternatives {\n",
      "    transcript: \"โทษตรดีด้วย \"\n",
      "    confidence: -0.0648778751\n",
      "    words {\n",
      "      start_time: 880\n",
      "      end_time: 1440\n",
      "      word: \"โทษตรดีด้วย\"\n",
      "      confidence: -0.0648778751\n",
      "    }\n",
      "  }\n",
      "  channel_tag: 1\n",
      "  audio_processed: 4.8\n",
      "}\n",
      "results {\n",
      "  alternatives {\n",
      "    transcript: \"แล้วตี \"\n",
      "    confidence: -0.764711499\n",
      "    words {\n",
      "      start_time: 2560\n",
      "      end_time: 3120\n",
      "      word: \"แล้วตี\"\n",
      "      confidence: -0.764711499\n",
      "    }\n",
      "  }\n",
      "  channel_tag: 1\n",
      "  audio_processed: 4.8\n",
      "}\n",
      "results {\n",
      "  alternatives {\n",
      "    transcript: \"ต้องหัน \"\n",
      "    confidence: -0.46184063\n",
      "    words {\n",
      "      start_time: 4160\n",
      "      end_time: 4480\n",
      "      word: \"ต้องหัน\"\n",
      "      confidence: -0.46184063\n",
      "    }\n",
      "  }\n",
      "  channel_tag: 1\n",
      "  audio_processed: 9.6\n",
      "}\n",
      "results {\n",
      "  alternatives {\n",
      "    transcript: \"ถาม \"\n",
      "    confidence: -0.428633481\n",
      "    words {\n",
      "      start_time: 5440\n",
      "      end_time: 5520\n",
      "      word: \"ถาม\"\n",
      "      confidence: -0.428633481\n",
      "    }\n",
      "  }\n",
      "  channel_tag: 1\n",
      "  audio_processed: 9.6\n",
      "}\n",
      "results {\n",
      "  alternatives {\n",
      "    transcript: \"พอ \"\n",
      "    confidence: -1.14323735\n",
      "    words {\n",
      "      start_time: 8240\n",
      "      end_time: 8320\n",
      "      word: \"พอ\"\n",
      "      confidence: -1.14323735\n",
      "    }\n",
      "  }\n",
      "  channel_tag: 1\n",
      "  audio_processed: 14.4000006\n",
      "}\n",
      "results {\n",
      "  alternatives {\n",
      "    transcript: \"คล้ายว่า \"\n",
      "    confidence: -0.792363882\n",
      "    words {\n",
      "      start_time: 9440\n",
      "      end_time: 10000\n",
      "      word: \"คล้ายว่า\"\n",
      "      confidence: -0.792363882\n",
      "    }\n",
      "  }\n",
      "  channel_tag: 1\n",
      "  audio_processed: 14.4000006\n",
      "}\n",
      "results {\n",
      "  alternatives {\n",
      "    transcript: \"เขาคนที่สังเกต \"\n",
      "    confidence: -0.0272936393\n",
      "    words {\n",
      "      start_time: 11120\n",
      "      end_time: 11840\n",
      "      word: \"เขาคนที่สังเกต\"\n",
      "      confidence: -0.0272936393\n",
      "    }\n",
      "  }\n",
      "  channel_tag: 1\n",
      "  audio_processed: 14.4000006\n",
      "}\n",
      "results {\n",
      "  alternatives {\n",
      "    transcript: \"ใช่ที่เขาถามเสียงต่อแล้วน่ารักค่ะ \"\n",
      "    confidence: -0.458206\n",
      "    words {\n",
      "      start_time: 13440\n",
      "      end_time: 15600\n",
      "      word: \"ใช่ที่เขาถามเสียงต่อแล้วน่ารักค่ะ\"\n",
      "      confidence: -0.458206\n",
      "    }\n",
      "  }\n",
      "  channel_tag: 1\n",
      "  audio_processed: 19.2\n",
      "}\n",
      "results {\n",
      "  alternatives {\n",
      "    transcript: \"นะคะบอก \"\n",
      "    confidence: -0.969910085\n",
      "    words {\n",
      "      start_time: 16800\n",
      "      end_time: 17120\n",
      "      word: \"นะคะบอก\"\n",
      "      confidence: -0.969910085\n",
      "    }\n",
      "  }\n",
      "  channel_tag: 1\n",
      "  audio_processed: 19.2\n",
      "}\n",
      "results {\n",
      "  alternatives {\n",
      "    transcript: \"ล้านสี่ \"\n",
      "    confidence: -1.66092753\n",
      "    words {\n",
      "      start_time: 20640\n",
      "      end_time: 21040\n",
      "      word: \"ล้านสี่\"\n",
      "      confidence: -1.66092753\n",
      "    }\n",
      "  }\n",
      "  channel_tag: 1\n",
      "  audio_processed: 21.37\n",
      "}\n",
      "id {\n",
      "  value: \"662ea285-eb4e-4b69-ac83-6111aae8993c\"\n",
      "}\n",
      "\n"
     ]
    }
   ],
   "source": [
    "import riva.client\n",
    "\n",
    "def run_inference(audio_file, server='localhost:50051', print_full_response=True):\n",
    "    with open(audio_file, 'rb') as fh:\n",
    "        data = fh.read()\n",
    "    \n",
    "    auth = riva.client.Auth(uri=server)\n",
    "    client = riva.client.ASRService(auth)\n",
    "    config = riva.client.RecognitionConfig(\n",
    "        language_code=\"th-TH\",\n",
    "        max_alternatives=1,\n",
    "        enable_automatic_punctuation=False,\n",
    "    )\n",
    "    \n",
    "    response = client.offline_recognize(data, config)\n",
    "    if print_full_response: \n",
    "        print(response)\n",
    "    else:\n",
    "        print(response.results[0].alternatives[0].transcript)\n",
    "\n",
    "audio_file = \"/home/trin/projects/thai-asr/fastapi-backend/app/audio/ThaiTest.wav\"\n",
    "run_inference(audio_file)"
   ]
  },
  {
   "cell_type": "code",
   "execution_count": 13,
   "id": "84b4fed8-b8b1-40e1-9dae-7a3bd43f6380",
   "metadata": {},
   "outputs": [
    {
     "name": "stdout",
     "output_type": "stream",
     "text": [
      "Shutting down docker containers...\n"
     ]
    }
   ],
   "source": [
    "! cd $RIVA_DIR && ./riva_stop.sh "
   ]
  }
 ],
 "metadata": {
  "kernelspec": {
   "display_name": "thai-asr",
   "language": "python",
   "name": "python3"
  },
  "language_info": {
   "codemirror_mode": {
    "name": "ipython",
    "version": 3
   },
   "file_extension": ".py",
   "mimetype": "text/x-python",
   "name": "python",
   "nbconvert_exporter": "python",
   "pygments_lexer": "ipython3",
   "version": "3.12.11"
  }
 },
 "nbformat": 4,
 "nbformat_minor": 5
}
